{
 "cells": [
  {
   "cell_type": "code",
   "execution_count": 19,
   "metadata": {
    "collapsed": false
   },
   "outputs": [
    {
     "data": {
      "text/plain": [
       " 1  2  3\n",
       " 4  5  6\n",
       " 7  8  9\n",
       "[torch.DoubleTensor of size 3x3]\n",
       "\n"
      ]
     },
     "execution_count": 19,
     "metadata": {},
     "output_type": "execute_result"
    }
   ],
   "source": [
    "t = torch.Tensor({{1,2,3},{4,5,6},{7,8,9}});\n",
    "print(t);"
   ]
  },
  {
   "cell_type": "code",
   "execution_count": 30,
   "metadata": {
    "collapsed": false
   },
   "outputs": [
    {
     "data": {
      "text/plain": [
       " 2\n",
       " 5\n",
       " 8\n",
       "[torch.DoubleTensor of size 3x1]\n",
       "\n"
      ]
     },
     "execution_count": 30,
     "metadata": {},
     "output_type": "execute_result"
    }
   ],
   "source": [
    "col = t:narrow(2,2,1)\n",
    "print(col)"
   ]
  },
  {
   "cell_type": "code",
   "execution_count": 35,
   "metadata": {
    "collapsed": false
   },
   "outputs": [
    {
     "data": {
      "text/plain": [
       " 2\n",
       " 5\n",
       " 8\n",
       "[torch.DoubleTensor of size 3x1]\n",
       "\n"
      ]
     },
     "execution_count": 35,
     "metadata": {},
     "output_type": "execute_result"
    }
   ],
   "source": [
    "col = t:sub(1,3,2,2)\n",
    "print(col)"
   ]
  },
  {
   "cell_type": "code",
   "execution_count": 38,
   "metadata": {
    "collapsed": false
   },
   "outputs": [
    {
     "data": {
      "text/plain": [
       " 2\n",
       " 5\n",
       " 8\n",
       "[torch.DoubleTensor of size 3]\n",
       "\n"
      ]
     },
     "execution_count": 38,
     "metadata": {},
     "output_type": "execute_result"
    }
   ],
   "source": [
    "col = t:select(2,2)\n",
    "print(col)"
   ]
  },
  {
   "cell_type": "code",
   "execution_count": 41,
   "metadata": {
    "collapsed": false
   },
   "outputs": [
    {
     "ename": "error loading module 'libnn' from file '/Users/jordanburgess/torch/install/lib/lua/5.1/libnn.so':\n\tdlopen(/Users/jordanburgess/torch/install/lib/lua/5.1/libnn.so, 6): Symbol not found: _THAssert\n  Referenced from: /Users/jordanburgess/torch/install/lib/lua/5.1/libnn.so\n  Expected in: flat namespace\n in /Users/jordanburgess/torch/install/lib/lua/5.1/libnn.so\nstack traceback:\n\t[C]: at 0x010f3fe4a0\n\t[C]: in function 'require'\n\t...rs/jordanburgess/torch/install/share/lua/5.1/nn/init.lua:2: in main chunk\n\t[C]: in function 'f'\n\t[string \"local f = function() return require 'nn' end;...\"]:1: in main chunk\n\t[C]: in function 'xpcall'\n\t...ordanburgess/torch/install/share/lua/5.1/itorch/main.lua:179: in function <...ordanburgess/torch/install/share/lua/5.1/itorch/main.lua:143>\n\t...ordanburgess/torch/install/share/lua/5.1/lzmq/poller.lua:75: in function 'poll'\n\t...anburgess/torch/install/share/lua/5.1/lzmq/impl/loop.lua:307: in function 'poll'\n\t...anburgess/torch/install/share/lua/5.1/lzmq/impl/loop.lua:325: in function 'sleep_ex'\n\t...anburgess/torch/install/share/lua/5.1/lzmq/impl/loop.lua:370: in function 'start'\n\t...ordanburgess/torch/install/share/lua/5.1/itorch/main.lua:350: in main chunk\n\t[C]: in function 'require'\n\t[string \"arg={'/Users/jordanburgess/Library/Jupyter/ru...\"]:1: in main chunk",
     "evalue": "",
     "output_type": "error",
     "traceback": [
      "error loading module 'libnn' from file '/Users/jordanburgess/torch/install/lib/lua/5.1/libnn.so':\n\tdlopen(/Users/jordanburgess/torch/install/lib/lua/5.1/libnn.so, 6): Symbol not found: _THAssert\n  Referenced from: /Users/jordanburgess/torch/install/lib/lua/5.1/libnn.so\n  Expected in: flat namespace\n in /Users/jordanburgess/torch/install/lib/lua/5.1/libnn.so\nstack traceback:\n\t[C]: at 0x010f3fe4a0\n\t[C]: in function 'require'\n\t...rs/jordanburgess/torch/install/share/lua/5.1/nn/init.lua:2: in main chunk\n\t[C]: in function 'f'\n\t[string \"local f = function() return require 'nn' end;...\"]:1: in main chunk\n\t[C]: in function 'xpcall'\n\t...ordanburgess/torch/install/share/lua/5.1/itorch/main.lua:179: in function <...ordanburgess/torch/install/share/lua/5.1/itorch/main.lua:143>\n\t...ordanburgess/torch/install/share/lua/5.1/lzmq/poller.lua:75: in function 'poll'\n\t...anburgess/torch/install/share/lua/5.1/lzmq/impl/loop.lua:307: in function 'poll'\n\t...anburgess/torch/install/share/lua/5.1/lzmq/impl/loop.lua:325: in function 'sleep_ex'\n\t...anburgess/torch/install/share/lua/5.1/lzmq/impl/loop.lua:370: in function 'start'\n\t...ordanburgess/torch/install/share/lua/5.1/itorch/main.lua:350: in main chunk\n\t[C]: in function 'require'\n\t[string \"arg={'/Users/jordanburgess/Library/Jupyter/ru...\"]:1: in main chunk"
     ]
    }
   ],
   "source": [
    "require 'nn'"
   ]
  },
  {
   "cell_type": "code",
   "execution_count": 1,
   "metadata": {
    "collapsed": true
   },
   "outputs": [],
   "source": [
    "dataTest = torch.Tensor{\n",
    "   {6, 4},\n",
    "   {10, 5},\n",
    "   {14, 8}\n",
    "}"
   ]
  },
  {
   "cell_type": "code",
   "execution_count": 4,
   "metadata": {
    "collapsed": false
   },
   "outputs": [
    {
     "data": {
      "text/plain": [
       " 6\n",
       " 4\n",
       "[torch.DoubleTensor of size 2]\n",
       "\n",
       " 10\n",
       "  5\n",
       "[torch.DoubleTensor of size 2]\n",
       "\n",
       " 14\n",
       "  8\n",
       "[torch.DoubleTensor of size 2]\n",
       "\n"
      ]
     },
     "execution_count": 4,
     "metadata": {},
     "output_type": "execute_result"
    }
   ],
   "source": [
    "\n",
    "for i = 1,(#dataTest)[1] do\n",
    "   print(dataTest[i][{{1,2}}])\n",
    "end"
   ]
  },
  {
   "cell_type": "code",
   "execution_count": 7,
   "metadata": {
    "collapsed": false
   },
   "outputs": [
    {
     "data": {
      "text/plain": [
       "6\t\n"
      ]
     },
     "execution_count": 7,
     "metadata": {},
     "output_type": "execute_result"
    }
   ],
   "source": [
    "print(dataTest[1])"
   ]
  },
  {
   "cell_type": "code",
   "execution_count": null,
   "metadata": {
    "collapsed": true
   },
   "outputs": [],
   "source": []
  }
 ],
 "metadata": {
  "kernelspec": {
   "display_name": "iTorch",
   "language": "lua",
   "name": "itorch"
  },
  "language_info": {
   "name": "lua",
   "version": "20100"
  }
 },
 "nbformat": 4,
 "nbformat_minor": 0
}
